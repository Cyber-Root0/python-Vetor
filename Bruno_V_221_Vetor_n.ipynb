{
  "nbformat": 4,
  "nbformat_minor": 0,
  "metadata": {
    "colab": {
      "name": "Bruno V. - 221_Vetor_n.ipynb",
      "provenance": [],
      "collapsed_sections": [],
      "include_colab_link": true
    },
    "kernelspec": {
      "name": "python3",
      "display_name": "Python 3"
    }
  },
  "cells": [
    {
      "cell_type": "markdown",
      "metadata": {
        "id": "view-in-github",
        "colab_type": "text"
      },
      "source": [
        "<a href=\"https://colab.research.google.com/github/Cyber-Root0/python-Vetor/blob/main/Bruno_V_221_Vetor_n.ipynb\" target=\"_parent\"><img src=\"https://colab.research.google.com/assets/colab-badge.svg\" alt=\"Open In Colab\"/></a>"
      ]
    },
    {
      "cell_type": "markdown",
      "metadata": {
        "id": "BTk5UJlvXLuB"
      },
      "source": [
        "#**EXERCÍCIOS SOBRE VETOR**"
      ]
    },
    {
      "cell_type": "markdown",
      "metadata": {
        "id": "YOspAvb8YpqR"
      },
      "source": [
        "### 1. Faça um programa que calcule e apresente a média de idades de uma sala \n",
        "\n",
        "---\n",
        "\n",
        "de 35 alunos.​​"
      ]
    },
    {
      "cell_type": "code",
      "metadata": {
        "id": "PR5Z9QlTXHEO"
      },
      "source": [
        "idade = []\n",
        "media=0\n",
        "for x in range(35):\n",
        "  idade[x] = int(input('Digite a Idade: '))\n",
        "for y in range(35):\n",
        "  media=media+idade[y]\n",
        "print('A media das Idades é: ',media/35)"
      ],
      "execution_count": null,
      "outputs": []
    },
    {
      "cell_type": "markdown",
      "metadata": {
        "id": "XtTydU3HZNHi"
      },
      "source": [
        "### 2. Faça um programa que calcule e apresente a média de alturas de uma sala de 35 alunos. Informe também quantos alunos **e** quais (índice/posição) são os que possuem idade superior a 25 anos.​ Use dois vetores, um para altura e outro para idade. Não use nenhuma função pronta da linguagem Python.\n"
      ]
    },
    {
      "cell_type": "code",
      "metadata": {
        "id": "n-bT5WDZZQQ0"
      },
      "source": [
        "qtd=4\n",
        "media=0\n",
        "indice = ''\n",
        "qtd_maior25=0\n",
        "altura = []\n",
        "idade = []\n",
        "for x in range(qtd):\n",
        "  altura.append(float(input('Informe a Altura: ')))\n",
        "  idade.append(float(input('Informe a Idade: ')))\n",
        "  print('===================\\n')\n",
        "for y in range(qtd):\n",
        "  media=media+altura[y]\n",
        "  if idade[y]>25:\n",
        "    qtd_maior25=qtd_maior25+1\n",
        "    indice=indice+' - '+str(y)\n",
        "print('A media das Alturas é: ',media/qtd)\n",
        "print('Quantidade de Alunos > 25 anos: ',qtd_maior25)\n",
        "print('Indice das Posições que tem Idade > 25 Anos: ',indice)\n"
      ],
      "execution_count": null,
      "outputs": []
    },
    {
      "cell_type": "markdown",
      "metadata": {
        "id": "3x_WkNYTZQeD"
      },
      "source": [
        "### 3. Faça um programa que carregue um vetor de dez elementos que contenha o nome de pessoas e outro que contenha o peso, encontre qual a pessoa mais gorda e mais magra e apresente o nome o peso das mesmas.​ Use dois vetores, um para peso e outro para nome. Não use nenhuma função pronta da linguagem Python."
      ]
    },
    {
      "cell_type": "code",
      "source": [
        ""
      ],
      "metadata": {
        "id": "_3LWr1zg2RPk"
      },
      "execution_count": null,
      "outputs": []
    },
    {
      "cell_type": "code",
      "metadata": {
        "id": "7VsianjuZMrf",
        "colab": {
          "base_uri": "https://localhost:8080/"
        },
        "outputId": "bcb33fa3-509a-413a-cea7-b604d20b3a8e"
      },
      "source": [
        "nomes= []\n",
        "peso = []\n",
        "gorda=0 #indice MAIOR(Valor)\n",
        "magra=0 #indice MENOR(Valor)\n",
        "cfg = 3\n",
        "for x in range(cfg):\n",
        "  nomes.append(input('Nome: '))\n",
        "  peso.append(float(input('Digite o Peso: ')))\n",
        "  print('------------------\\n')\n",
        "for y in range(cfg):\n",
        "  if y == 0:\n",
        "    continue\n",
        "  if peso[y]>peso[gorda]:\n",
        "    gorda = y\n",
        "  elif peso[y]<peso[magra]:\n",
        "    magra=y\n",
        "print('===========================')\n",
        "print('Mais Gorda: ',nomes[gorda],'\\Peso: ',peso[gorda])\n",
        "print('Mais Magra: ',nomes[magra],'\\Peso: ',peso[magra])\n"
      ],
      "execution_count": null,
      "outputs": [
        {
          "output_type": "stream",
          "name": "stdout",
          "text": [
            "Nome: cyber\n",
            "Digite o Peso: 2\n",
            "------------------\n",
            "\n",
            "Nome: Alice\n",
            "Digite o Peso: 5\n",
            "------------------\n",
            "\n",
            "Nome: John\n",
            "Digite o Peso: 1\n",
            "------------------\n",
            "\n",
            "===========================\n",
            "Mais Gorda:  Alice \\Peso:  5.0\n",
            "Mais Magra:  John \\Peso:  1.0\n"
          ]
        }
      ]
    },
    {
      "cell_type": "markdown",
      "source": [
        ""
      ],
      "metadata": {
        "id": "YQObDYBn2da6"
      }
    },
    {
      "cell_type": "markdown",
      "metadata": {
        "id": "xSpiII3mZdQV"
      },
      "source": [
        "### 4. Faça um programa que carregue um vetor com a média de dez alunos, calcule e mostre a MÉDIA DA SALA e quantos alunos estão acima e abaixo da média da sala."
      ]
    },
    {
      "cell_type": "code",
      "metadata": {
        "id": "iWBTxDXvZUPP"
      },
      "source": [
        "cfg=10\n",
        "media = []\n",
        "media_sala=0\n",
        "abaixo=0\n",
        "acima=0\n",
        "for x in range(cfg):\n",
        "  media.append(float(input('Digite a media: ')))\n",
        "  media_sala=media_sala+media[x]\n",
        "media_sala=media_sala/cfg\n",
        "for y in range(cfg):\n",
        "  if media[y]<media_sala:\n",
        "    abaixo=abaixo+1\n",
        "  else:\n",
        "    acima=acima+1\n",
        "print('Media da sala: ',media_sala)\n",
        "print('Alunos acima da media: ',acima)\n",
        "print('Alunos abaixo da media: ',abaixo)"
      ],
      "execution_count": null,
      "outputs": []
    },
    {
      "cell_type": "markdown",
      "metadata": {
        "id": "frrtYwMAZUcL"
      },
      "source": [
        "### 5. Faça um programa que carregue um vetor de oito elementos numéricos inteiros, calcule e mostre os números pares e suas respectivas índices/posições. Não use nenhuma função pronta da linguagem Python.\n"
      ]
    },
    {
      "cell_type": "code",
      "metadata": {
        "id": "7S8zpor8Z5Hb",
        "colab": {
          "base_uri": "https://localhost:8080/"
        },
        "outputId": "1dfa0eb5-d706-4306-d1af-87e9a45fc663"
      },
      "source": [
        "num=[]\n",
        "pares=''\n",
        "for x in range(8):\n",
        "  num.append(float(input('Digite o Numero: ')))\n",
        "for y in range(8):\n",
        "  if num[y]%2==0:\n",
        "    print(num[y],' é Par')\n",
        "    pares=pares+''+str(y)+','\n",
        "print('indice :', pares)\n",
        "\n",
        "\n"
      ],
      "execution_count": null,
      "outputs": [
        {
          "output_type": "stream",
          "name": "stdout",
          "text": [
            "Digite o Numero: 1\n",
            "Digite o Numero: 2\n",
            "Digite o Numero: 3\n",
            "Digite o Numero: 4\n",
            "Digite o Numero: 5\n",
            "Digite o Numero: 6\n",
            "Digite o Numero: 7\n",
            "Digite o Numero: 8\n",
            "2.0  é Par\n",
            "4.0  é Par\n",
            "6.0  é Par\n",
            "8.0  é Par\n",
            "indice : 1,3,5,7,\n"
          ]
        }
      ]
    },
    {
      "cell_type": "markdown",
      "metadata": {
        "id": "cml17HAsZ5Wf"
      },
      "source": [
        "### 6. Faça um programa que carregue um vetor com dez nomes e faça uma verificação se um determinado nome esta nesse vetor. Não use nenhuma função pronta da linguagem Python.\n"
      ]
    },
    {
      "cell_type": "code",
      "metadata": {
        "id": "4R-FGZy4aHNx",
        "colab": {
          "base_uri": "https://localhost:8080/"
        },
        "outputId": "501d9708-7e10-4db3-eb0b-2860b628fa36"
      },
      "source": [
        "nomes = []\n",
        "indice=0\n",
        "check=False\n",
        "for x in range(10):\n",
        "  nomes.append(input('Digite o nome: '))\n",
        "n=input('Qual nome deseja procurar?\\n ')\n",
        "for y in range(10):\n",
        "  if nomes[y]==n:\n",
        "    check = True\n",
        "    indice=y\n",
        "    break\n",
        "if check==True:\n",
        "  print('Nome encontrado! Indice ',indice )\n",
        "else:\n",
        "  print('Nome não encontrado! :( ')\n",
        "\n",
        "\n",
        "\n",
        "\n"
      ],
      "execution_count": null,
      "outputs": [
        {
          "output_type": "stream",
          "name": "stdout",
          "text": [
            "Digite o nome: Adagilda\n",
            "Digite o nome: Aguinaldo\n",
            "Digite o nome: A\n",
            "Digite o nome: b\n",
            "Digite o nome: c\n",
            "Digite o nome: D\n",
            "Digite o nome: E\n",
            "Digite o nome: F\n",
            "Digite o nome: Pereira\n",
            "Digite o nome: Luz\n",
            "Qual nome deseja procurar?\n",
            " Pereira\n",
            "Nome encontrado! Indice  8\n",
            "Nome não encontrado! :(\n"
          ]
        }
      ]
    },
    {
      "cell_type": "markdown",
      "metadata": {
        "id": "0BYcEcgYaHbl"
      },
      "source": [
        "### 7. Faça um algoritmo que calcule e apresente a média de alturas superior a 1,80 de 10 alunos. Informe também quantos e quais (índice/posição) são os alunos. Não use nenhuma função pronta da linguagem Python.\n"
      ]
    },
    {
      "cell_type": "code",
      "metadata": {
        "id": "wbXDmo6daU5n"
      },
      "source": [
        "alturas = []\n",
        "qtd=0\n",
        "media=0\n",
        "for x in range(10):\n",
        "  altura=float(input('Digite a altura: '))\n",
        "  if altura>1.80:\n",
        "    alturas.append(altura)\n",
        "    qtd=qtd+1\n",
        "for y in range(10):\n",
        "  media=media+alturas[y] \n",
        "print('Quantidade de Alturas: ',qtd)\n",
        "print('Media das Alturas: ',media/qtd)\n"
      ],
      "execution_count": null,
      "outputs": []
    },
    {
      "cell_type": "markdown",
      "metadata": {
        "id": "mFaqmOmuaVN2"
      },
      "source": [
        "### 8. Criar um algoritmo que a partir de um vetor de 10 elementos inteiros, crie outros dois vetores que receberão os elementos positivos e negativos e ao final apresente-os. Não use nenhuma função pronta da linguagem Python.\n"
      ]
    },
    {
      "cell_type": "code",
      "metadata": {
        "id": "A6hJ8MIdahuM"
      },
      "source": [
        "positivos = []\n",
        "negativos = []\n",
        "inteiros = []\n",
        "for x in range(3):\n",
        "  inteiros.append(int(input('Digite o numero inteiro: ')))\n",
        "for y in range(3):\n",
        "  if inteiros[y]>=0:\n",
        "    positivos.append(inteiros[y])\n",
        "  else:\n",
        "    negativos.append(inteiros[y])\n",
        "# processo de mostrar ao usuario todos os Inteiros, positivos e negativos\n",
        "print('Inteiros: ', inteiros)\n",
        "print('Positivos: ', positivos)\n",
        "print('Negativos: ', negativos)"
      ],
      "execution_count": null,
      "outputs": []
    },
    {
      "cell_type": "markdown",
      "metadata": {
        "id": "K5IMhYTHaiEl"
      },
      "source": [
        "### 9. Criar um algoritmo que leia dados para um vetor de 100 elementos inteiros, imprimir o maior, o menor, o percentual de números pares e a média dos elementos do vetor. Obs.: percentual = quantidade contada * 100 / quantidade total. Não use nenhuma função pronta da linguagem Python.\n"
      ]
    },
    {
      "cell_type": "code",
      "metadata": {
        "id": "X6krLAFKaumK"
      },
      "source": [
        "cfg=100\n",
        "inteiros = []\n",
        "maior=0 #Indice\n",
        "menor=0 #Indice\n",
        "pares=0 #NumerosPares\n",
        "media=0 #SomaDosNumeros                     \n",
        "for x in range(cfg):\n",
        "  inteiros.append(int(input('Insira um numero inteiro: ')))\n",
        "for y in range(cfg):\n",
        "  if inteiros[y]%2==0: #Descobrindo quantos Pares TEM\n",
        "    pares=pares+1\n",
        "  media=media+inteiros[y] # Media dos Elementos\n",
        "  if y == 0:  #Descobrindo O MAIOR E MENOR\n",
        "    continue\n",
        "  if inteiros[y]>inteiros[maior]:\n",
        "    maior = y\n",
        "  elif inteiros[y]<inteiros[menor]:\n",
        "    menor=y\n",
        "print('Maior Numero: ',inteiros[maior])\n",
        "print('O Menor NUmero: ',inteiros[menor])\n",
        "print('O Porcentual de Pares:  ',pares/cfg*100,' %')\n",
        "print('Media dos Elementos: ',media/cfg)\n",
        "\n",
        "\n",
        "\n",
        "\n",
        "\n",
        "\n",
        "\n",
        "\n"
      ],
      "execution_count": null,
      "outputs": []
    },
    {
      "cell_type": "markdown",
      "metadata": {
        "id": "X6C3DbCGFR71"
      },
      "source": [
        "### 10. Faça um programa que:\n",
        "\n",
        "* preencha um vetor com seis elementos numéricos inteiros. \n",
        "\n",
        "**Calcule e mostre:**\n",
        "\n",
        "* todos os números pares;\n",
        "* a quantidade de números pares;\n",
        "* todos os números ímpares;\n",
        "* a quantidade de números ímpares"
      ]
    },
    {
      "cell_type": "code",
      "metadata": {
        "id": "0OjTx-RoFZUT",
        "colab": {
          "base_uri": "https://localhost:8080/"
        },
        "outputId": "5ed3e785-a806-4b2a-ea5f-d7576d235d71"
      },
      "source": [
        "cfg=3\n",
        "inteiros = []\n",
        "pares= []\n",
        "impares = []\n",
        "for x in range(cfg):\n",
        "  inteiros.append(int(input('Digite o numero: ')))\n",
        "for y in range(cfg):\n",
        "  if inteiros[y]%2==0:\n",
        "    pares.append(inteiros[y])\n",
        "  else:\n",
        "    impares.append(inteiros[y])\n",
        "print('Numeros pares:\\n',pares,'\\nQuantidade: ',len(pares))\n",
        "print('Numeros impares:\\n',impares,'\\nQuantidade: ',len(impares))"
      ],
      "execution_count": null,
      "outputs": [
        {
          "output_type": "stream",
          "name": "stdout",
          "text": [
            "Digite o numero: 6\n",
            "Digite o numero: 3\n",
            "Digite o numero: 1\n",
            "Numeros pares:\n",
            " [6] \n",
            "Quantidade:  1\n",
            "Numeros impares:\n",
            " [3, 1] \n",
            "Quantidade:  2\n"
          ]
        }
      ]
    },
    {
      "cell_type": "markdown",
      "metadata": {
        "id": "qTCb3GyDFzlm"
      },
      "source": [
        "### 11. Faça um programa que:\n",
        "\n",
        "* preencha um vetor com sete números inteiros\n",
        "\n",
        "**Calcule e mostre:**\n",
        "\n",
        "* os números múltiplos de 2;\n",
        "* os números múltiplos de 3;\n",
        "* os números múltiplos de 2 e de 3."
      ]
    },
    {
      "cell_type": "code",
      "metadata": {
        "id": "OPX_rge2F3kR",
        "colab": {
          "base_uri": "https://localhost:8080/"
        },
        "outputId": "6a828ef0-9345-47c0-d52e-5619eb23b718"
      },
      "source": [
        "cfg=4\n",
        "inteiros = []\n",
        "m2 = []\n",
        "m3 = []\n",
        "m2e3 =[]\n",
        "for x in range(cfg):\n",
        "  inteiros.append(int(input('Digite o numero: ')))\n",
        "for y in range(cfg):\n",
        "  #multiplos de 2\n",
        "  if inteiros[y]%2==0:\n",
        "    m2.append(inteiros[y])\n",
        "  if inteiros[y]%3==0:\n",
        "    m3.append(inteiros[y])\n",
        "  if inteiros[y]%2==0 and inteiros[y]%3==0:\n",
        "    m2e3.append(inteiros[y])\n",
        "print('======================\\nMultiplos de 2: ',m2,'\\nMultiplos de 3: ',m3,'\\nMultiplos de 2 e 3: ',m2e3)\n"
      ],
      "execution_count": null,
      "outputs": [
        {
          "output_type": "stream",
          "name": "stdout",
          "text": [
            "Digite o numero: 2\n",
            "Digite o numero: 3\n",
            "Digite o numero: 6\n",
            "Digite o numero: 1\n",
            "======================\n",
            "Mulriplos de 2:  [2, 6] \n",
            "Multiplos de 3:  [3, 6] \n",
            "Multiplos de 2 e 3:  [6]\n"
          ]
        }
      ]
    },
    {
      "cell_type": "markdown",
      "metadata": {
        "id": "sf4dSTh-F3wV"
      },
      "source": [
        "### 12. Faça um programa que:\n",
        "\n",
        "* preencha um vetor com quinze elementos inteiros\n",
        "* verifique a existência de elementos iguais a 30, mostrando os índices/posições em que apareceram."
      ]
    },
    {
      "cell_type": "code",
      "metadata": {
        "id": "pV6slXVYF8Fm",
        "colab": {
          "base_uri": "https://localhost:8080/"
        },
        "outputId": "4a660c15-3394-4cc5-97ab-31edef7004cb"
      },
      "source": [
        "cfg=5\n",
        "inteiros = []\n",
        "indice=''\n",
        "for x in range(cfg):\n",
        "  inteiros.append(int(input('Digite 1 numero inteiro: ')))\n",
        "for y in range(cfg):\n",
        "  if inteiros[y]==30:\n",
        "    indice+=str(y)+' - '\n",
        "print('Indices : ', indice)\n",
        "\n"
      ],
      "execution_count": null,
      "outputs": [
        {
          "output_type": "stream",
          "name": "stdout",
          "text": [
            "Digite 1 numero inteiro: 30\n",
            "Digite 1 numero inteiro: 1\n",
            "Digite 1 numero inteiro: 2\n",
            "Digite 1 numero inteiro: 6\n",
            "Digite 1 numero inteiro: 30\n",
            "Indices :  0 - 4 - \n"
          ]
        }
      ]
    },
    {
      "cell_type": "markdown",
      "metadata": {
        "id": "9UnrFcvfF8VU"
      },
      "source": [
        "### 13. Faça um programa que:\n",
        "\n",
        "* preencha um vetor com dez números reais\n",
        "\n",
        "**Calcule e mostre:**\n",
        "\n",
        "* a quantidade de números negativos\n",
        "* a soma dos números positivos desse *vetor*\n",
        "* não use nenhuma função pronta da linguagem Python"
      ]
    },
    {
      "cell_type": "code",
      "metadata": {
        "id": "x4hGToRMM6q8"
      },
      "source": [
        "cfg=10\n",
        "number = []\n",
        "soma_p=0\n",
        "c=0\n",
        "for x in range(cfg):\n",
        "  number.append(float(input('Digite um numero: ')))\n",
        "for y in range(cfg):\n",
        "  #soma dos numeros positivos\n",
        "  if number[y]>=0:\n",
        "    soma_p=soma_p+number[y]\n",
        "  else:\n",
        "    c=c+1\n",
        "print('Quantidade de numeros negativos: ',c)\n",
        "print('A Soma dos numeros positivos: ',soma_p)\n",
        "\n",
        "\n"
      ],
      "execution_count": null,
      "outputs": []
    },
    {
      "cell_type": "markdown",
      "metadata": {
        "id": "h08bQeSEM62n"
      },
      "source": [
        "### 14. Faça um programa que:\n",
        "\n",
        "* receba dez números inteiros e armazene-os em um vetor\n",
        "* classifique os números em dois vetores, um com números pares e o outra com os ímpares\n",
        "* não use nenhuma função pronta da linguagem Python"
      ]
    },
    {
      "cell_type": "code",
      "metadata": {
        "id": "5Ch4maMCM-hg"
      },
      "source": [
        "cfg=10\n",
        "inteiros = []\n",
        "pares = []\n",
        "impares = []\n",
        "for x in range(cfg):\n",
        "  inteiros.append(int(input('Digite 1 numero inteiro: ')))\n",
        "for y in range(cfg):\n",
        "  if inteiros[y]%2==0:\n",
        "    pares.append(inteiros[y])\n",
        "  else:\n",
        "    impares.append(inteiros[y])\n",
        "print('Numeros pares: ',pares)\n",
        "print('Numeros impares: ',impares)"
      ],
      "execution_count": null,
      "outputs": []
    },
    {
      "cell_type": "markdown",
      "metadata": {
        "id": "Lzqh-l1JNNTr"
      },
      "source": [
        "### 15. Faça um programa que:\n",
        "\n",
        "* preencha um vetor com quinze números\n",
        "\n",
        "**Determine e mostre:**\n",
        "\n",
        "* o maior número e a posição por ele ocupada no vetor\n",
        "* o menor número e a posição por ele ocupada no vetor\n",
        "* Não use nenhuma função pronta da linguagem Python"
      ]
    },
    {
      "cell_type": "code",
      "metadata": {
        "id": "J-jy56awNIb4",
        "colab": {
          "base_uri": "https://localhost:8080/"
        },
        "outputId": "fb713e04-6822-4c36-e970-d758c2f636fa"
      },
      "source": [
        "cfg=5\n",
        "numbers = []\n",
        "maior=0 #INDICE\n",
        "menor=0 #INDICE\n",
        "for x in range(cfg):\n",
        "  numbers.append(float(input('Insira um numero: ')))\n",
        "for y in range(cfg):\n",
        "  if y ==0:\n",
        "    continue\n",
        "  if numbers[y]>numbers[maior]:\n",
        "    maior=y\n",
        "  elif numbers[y]<numbers[menor]:\n",
        "    menor=y\n",
        "print('Maior numero: ',numbers[maior],'\\nPosição: ',maior)\n",
        "print('Menor numero: ',numbers[menor],'\\nPosição: ',menor)"
      ],
      "execution_count": null,
      "outputs": [
        {
          "output_type": "stream",
          "name": "stdout",
          "text": [
            "Insira um numero: 2\n",
            "Insira um numero: 9\n",
            "Insira um numero: -5\n",
            "Insira um numero: 4\n",
            "Insira um numero: 8\n",
            "Maior numero:  9.0 \n",
            "Posição:  1\n",
            "Menor numero:  -5.0 \n",
            "Posição:  2\n"
          ]
        }
      ]
    },
    {
      "cell_type": "markdown",
      "metadata": {
        "id": "HmWgU1x2FaAP"
      },
      "source": [
        "#**EXERCÍCIOS - EXTRA**"
      ]
    },
    {
      "cell_type": "markdown",
      "metadata": {
        "id": "CwrnVAqjNIqA"
      },
      "source": [
        "### 16. Faça um programa que:\n",
        "\n",
        "* preencha dois vetores com de dez numeros cada\n",
        "* preencha um terceiro vetor com os números dos dois vetores anteriores ordenados em ordem crescente\n"
      ]
    },
    {
      "cell_type": "code",
      "metadata": {
        "id": "JG4VQSZ0NNGP"
      },
      "source": [
        "# Digite seu código aqui."
      ],
      "execution_count": null,
      "outputs": []
    },
    {
      "cell_type": "markdown",
      "metadata": {
        "id": "HkiTq5lrNSnY"
      },
      "source": [
        "### 17. Faça um programa que:\n",
        "\n",
        "* carregue dois vetores com 10 números cada\n",
        "* faça a multiplicação dos números na mesma posição\n",
        "* o resultado deverá ser adicionada em um terceiro vetor\n",
        "* não use nenhuma função pronta da linguagem Python"
      ]
    },
    {
      "cell_type": "code",
      "metadata": {
        "id": "F1bta73yNXRe"
      },
      "source": [
        "# Digite seu código aqui.\n",
        "a = [ 8, 6, 3, 5]\n",
        "b = [ 3, 2, 8, 1]\n",
        "c = [8*3, 6*2,]"
      ],
      "execution_count": null,
      "outputs": []
    },
    {
      "cell_type": "markdown",
      "metadata": {
        "id": "ZAel4hPSNXdC"
      },
      "source": [
        "### 18. Faça um programa que:\n",
        "\n",
        "* leia um vetor de 10 números inteiros\n",
        "* exiba na tela os números positivos e seus respectivos índices.\n",
        "* não use nenhuma função pronta da linguagem Python"
      ]
    },
    {
      "cell_type": "code",
      "metadata": {
        "id": "Wn-sojioNb99"
      },
      "source": [
        "# Digite seu código aqui."
      ],
      "execution_count": null,
      "outputs": []
    },
    {
      "cell_type": "markdown",
      "metadata": {
        "id": "IErlUNBBNcKh"
      },
      "source": [
        "### 19. Faça um programa que:\n",
        "\n",
        "* insira dez números inteiros em um vetor\n",
        "* crie um segundo vetor, substituindo os números multiplos de 3 por \"999\"\"\n",
        "* exiba os dois vetores\n",
        "* não use nenhuma função pronta da linguagem Python"
      ]
    },
    {
      "cell_type": "code",
      "metadata": {
        "id": "ABkUHan9NiRV"
      },
      "source": [
        "# Digite seu código aqui."
      ],
      "execution_count": null,
      "outputs": []
    },
    {
      "cell_type": "markdown",
      "metadata": {
        "id": "ZtxMl1r8NnV7"
      },
      "source": [
        "### 21. Faça um programa que:\n",
        "\n",
        "* leia dois vetores (A e B) com cinco posições para números inteiros.\n",
        "* o programa deve, então, subtrair o primeiro elemento de A do último de B, armazenando o resultado num terceiro vetor, subtrair o segundo elemento de A do penúltimo de B, armazenando o resultado num terceiro vetor e assim por diante. \n",
        "* ao final, mostre o resultado do terceiro vetor\n",
        "* não use nenhuma função pronta da linguagem Python"
      ]
    },
    {
      "cell_type": "code",
      "metadata": {
        "id": "TPVdojenNq37"
      },
      "source": [
        "# Digite seu código aqui."
      ],
      "execution_count": null,
      "outputs": []
    },
    {
      "cell_type": "markdown",
      "metadata": {
        "id": "ASOIKJD7M-vh"
      },
      "source": [
        "###22. Faça um programa que:\n",
        "\n",
        "* preencha um vetor de cinco números e mostre a saída a seguir:\n",
        "* imprima a seguinte saída: n1 + n2 + n3 + n4 + n5 = soma_dos_numeros, exemplo 8 + 2 + 1 + 3 + 0 = 14\n",
        "* não use nenhuma função pronta da linguagem Python\n"
      ]
    },
    {
      "cell_type": "code",
      "metadata": {
        "id": "hyDhAbwPNuhK"
      },
      "source": [
        "# Digite seu código aqui."
      ],
      "execution_count": null,
      "outputs": []
    },
    {
      "cell_type": "markdown",
      "metadata": {
        "id": "D6GVJmfhNusA"
      },
      "source": [
        "### 23. Faça um programa que:\n",
        "* leia um vetor com quinze posições para números inteiros.\n",
        "* depois da leitura, divida todos os seus elementos pelo maior valor do vetor.\n",
        "* Mostre o vetor após os cálculos.\n",
        "* não use nenhuma função pronta da linguagem Python"
      ]
    },
    {
      "cell_type": "code",
      "metadata": {
        "id": "zto4otPkgPRV"
      },
      "source": [
        "# Digite seu código aqui."
      ],
      "execution_count": null,
      "outputs": []
    },
    {
      "cell_type": "markdown",
      "metadata": {
        "id": "Hwgks80Tawon"
      },
      "source": [
        "### 24. Um vetor é palíndromo se ele não se alterar quando o mesmo for invertido. Escreva um programa que verifique se um vetor é palíndromo, fazendo comparação de índice/posição por índice/posição do vetor original (vo) com o vetor invertido (vi). Não use nenhuma função pronta da linguagem Python. A tamanho do vetor pode ser da sua escolha.\n",
        "Exemplo:\n",
        "vetor original    vo = {1, 3, 5, 2, 2, 5, 3, 1}  \n",
        "vetor invertido é vi = {1, 3, 5, 2, 2, 5, 3, 1}\n",
        "O vetor invertido **é palíndromo**, pois ele invertido é igual ao original\n",
        "\n",
        "vetor original    vo = {9, 7, 5, 2, 4, 5, 3, 6}  \n",
        "vetor invertido é vi = {6, 3, 5, 4, 2, 5, 7, 9}\n",
        "O vetor invertido **não é palíndromo**, pois ele invertido é igual ao original\n",
        "\n"
      ]
    },
    {
      "cell_type": "code",
      "metadata": {
        "id": "ua4_aIrbN0rO"
      },
      "source": [
        "# Digite seu código aqui."
      ],
      "execution_count": null,
      "outputs": []
    }
  ]
}